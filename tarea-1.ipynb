{
  "nbformat": 4,
  "nbformat_minor": 0,
  "metadata": {
    "colab": {
      "name": "1. Listas enlazadas.ipynb",
      "provenance": [],
      "collapsed_sections": [],
      "authorship_tag": "ABX9TyOio1A2dj4HoCM1mQsKkWgU",
      "include_colab_link": true
    },
    "kernelspec": {
      "name": "python3",
      "display_name": "Python 3"
    },
    "language_info": {
      "name": "python"
    }
  },
  "cells": [
    {
      "cell_type": "markdown",
      "metadata": {
        "id": "view-in-github",
        "colab_type": "text"
      },
      "source": [
        "<a href=\"https://colab.research.google.com/github/hugosmhd/tareas-ipc2/blob/master/tarea-1.ipynb\" target=\"_parent\"><img src=\"https://colab.research.google.com/assets/colab-badge.svg\" alt=\"Open In Colab\"/></a>"
      ]
    },
    {
      "cell_type": "markdown",
      "metadata": {
        "id": "11WMf_cJtdZb"
      },
      "source": [
        "## **Listas Enlazadas**\n",
        "**Definicion de la clase Estudiante**"
      ]
    },
    {
      "cell_type": "code",
      "metadata": {
        "id": "e9REPwBVuDBm"
      },
      "source": [
        "class estudiante:\n",
        "  def __init__(self, carne, nombre, edad, direccion, telefono, email, carrera, puesto):\n",
        "    self.carne = carne\n",
        "    self.nombre = nombre\n",
        "    self.edad = edad\n",
        "    self.direccion = direccion\n",
        "    self.telefono = telefono\n",
        "    self.email = email\n",
        "    self.carrera = carrera\n",
        "    self.puesto = puesto"
      ],
      "execution_count": 1,
      "outputs": []
    },
    {
      "cell_type": "markdown",
      "metadata": {
        "id": "MFK_XdXZzRq9"
      },
      "source": [
        "**Definicion de la clase Nodo**"
      ]
    },
    {
      "cell_type": "code",
      "metadata": {
        "id": "qtWwraYuzWg5"
      },
      "source": [
        "class nodo:\n",
        "  def __init__(self, estudiante=None, siguiente=None):\n",
        "    self.estudiante = estudiante\n",
        "    self.siguiente = siguiente"
      ],
      "execution_count": 2,
      "outputs": []
    },
    {
      "cell_type": "markdown",
      "metadata": {
        "id": "s5WOiSj022MV"
      },
      "source": [
        "**Definicion de la clase Lista Enlazada**"
      ]
    },
    {
      "cell_type": "code",
      "metadata": {
        "id": "vz5Gn0Nh25V0"
      },
      "source": [
        "class lista_enlazada:\n",
        "  def __init__(self):\n",
        "    self.primero = None\n",
        "\n",
        "  def insertar(self, estudiante):\n",
        "    if self.primero is None:\n",
        "      self.primero = nodo(estudiante=estudiante)\n",
        "      return\n",
        "    actual = self.primero\n",
        "    while actual.siguiente:\n",
        "      actual = actual.siguiente\n",
        "    actual.siguiente = nodo(estudiante=estudiante)\n",
        "\n",
        "  def recorrer(self):\n",
        "    actual = self.primero\n",
        "    while actual != None:\n",
        "      print(\"carne:\", actual.estudiante.carne, \"nombre:\", actual.estudiante.nombre, \"email:\" , actual.estudiante.email, \"->\")\n",
        "      actual = actual.siguiente\n",
        "\n",
        "  def eliminar(self, carne):\n",
        "    actual = self.primero\n",
        "    anterior = None\n",
        "\n",
        "    while actual and actual.estudiante.carne != carne:\n",
        "      anterior = actual\n",
        "      actual = actual.siguiente\n",
        "    \n",
        "    if anterior is None:\n",
        "      self.primero = actual.siguiente\n",
        "      actual.siguiente = None\n",
        "    elif actual:\n",
        "      anterior.siguiente = actual.siguiente\n",
        "      actual.siguiente = None\n",
        "\n",
        "  def buscar(self, carne):\n",
        "    actual = self.primero\n",
        "\n",
        "    while actual and actual.estudiante.carne != carne:\n",
        "      actual = actual.siguiente\n",
        "\n",
        "    if actual is None:\n",
        "      print('No se han encontrado resultados con el carne:',actual.estudiante.carne)\n",
        "    else:\n",
        "      print(\"carne:\", actual.estudiante.carne, \"nombre:\", actual.estudiante.nombre, \"edad:\" , actual.estudiante.edad,\n",
        "            \"direccion:\" , actual.estudiante.direccion, \"telefono:\" , actual.estudiante.telefono, \"email:\" , actual.estudiante.email, \n",
        "            \"carrera:\" , actual.estudiante.carrera, \"puesto:\" , actual.estudiante.puesto)"
      ],
      "execution_count": 3,
      "outputs": []
    },
    {
      "cell_type": "markdown",
      "metadata": {
        "id": "MQw01D5H4S7t"
      },
      "source": [
        "**Creacion de objetos estudiantes**"
      ]
    },
    {
      "cell_type": "code",
      "metadata": {
        "id": "fdENBCW3sj51"
      },
      "source": [
        "e1 = estudiante(2019015059, \"Gerson Ortiz\", 20, \"9 calle 18-03 zona 1\", 241121031, \"gerson.ortiz@gmail.com\", \"Ingenieria en sistemas\", \"Programador Jr\")\n",
        "e2 = estudiante(201901450, \"Karen Hurtarte\", 21, \"7 calle 18-03 zona 1\", 56201133, \"karen.hurtarte@gmail.com\", \"Ingenieria en sistemas\", \"Programador Jr\")\n",
        "e3 = estudiante(20190164, \"Luis Mendez\", 22, \"8 calle 18-03 zona 1\", 56201133, \"luis.mendez@gmail.com\", \"Ingenieria en sistemas\", \"Programador Jr\")"
      ],
      "execution_count": 4,
      "outputs": []
    },
    {
      "cell_type": "markdown",
      "metadata": {
        "id": "pFmcNYn1tblu"
      },
      "source": [
        "**Inserción**"
      ]
    },
    {
      "cell_type": "code",
      "metadata": {
        "id": "8HviyRAxtiz-"
      },
      "source": [
        "lista_e = lista_enlazada()\n",
        "lista_e.insertar(e1)\n",
        "lista_e.insertar(e2)\n",
        "lista_e.insertar(e3)"
      ],
      "execution_count": 5,
      "outputs": []
    },
    {
      "cell_type": "markdown",
      "metadata": {
        "id": "V4Vs9B9kt5-F"
      },
      "source": [
        "**Recorrer la lista**"
      ]
    },
    {
      "cell_type": "code",
      "metadata": {
        "colab": {
          "base_uri": "https://localhost:8080/"
        },
        "id": "43PJ0DQat-jx",
        "outputId": "4a42e2d8-2bb3-4725-aacd-9973e1ebad83"
      },
      "source": [
        "lista_e.recorrer()"
      ],
      "execution_count": 6,
      "outputs": [
        {
          "output_type": "stream",
          "text": [
            "carne: 2019015059 nombre: Gerson Ortiz email: gerson.ortiz@gmail.com ->\n",
            "carne: 201901450 nombre: Karen Hurtarte email: karen.hurtarte@gmail.com ->\n",
            "carne: 20190164 nombre: Luis Mendez email: luis.mendez@gmail.com ->\n"
          ],
          "name": "stdout"
        }
      ]
    },
    {
      "cell_type": "markdown",
      "metadata": {
        "id": "PWA8v3xRwYxZ"
      },
      "source": [
        "**Eliminar un nodo de la lista**"
      ]
    },
    {
      "cell_type": "code",
      "metadata": {
        "colab": {
          "base_uri": "https://localhost:8080/"
        },
        "id": "mF8E5yRPwe8y",
        "outputId": "6926d2d4-3900-4bcf-b0d3-ddcd04e75e73"
      },
      "source": [
        "lista_e.eliminar(201901450)\n",
        "lista_e.recorrer()"
      ],
      "execution_count": 7,
      "outputs": [
        {
          "output_type": "stream",
          "text": [
            "carne: 2019015059 nombre: Gerson Ortiz email: gerson.ortiz@gmail.com ->\n",
            "carne: 20190164 nombre: Luis Mendez email: luis.mendez@gmail.com ->\n"
          ],
          "name": "stdout"
        }
      ]
    },
    {
      "cell_type": "markdown",
      "metadata": {
        "id": "Vmw-m8qKYzeA"
      },
      "source": [
        "**Buscar un nodo de la lista**"
      ]
    },
    {
      "cell_type": "code",
      "metadata": {
        "colab": {
          "base_uri": "https://localhost:8080/"
        },
        "id": "vFNMk_mcY69B",
        "outputId": "086ef196-ea91-48aa-b2f8-76e469ce95cb"
      },
      "source": [
        "lista_e.buscar(2019015059)"
      ],
      "execution_count": 8,
      "outputs": [
        {
          "output_type": "stream",
          "text": [
            "carne: 2019015059 nombre: Gerson Ortiz edad: 20 direccion: 9 calle 18-03 zona 1 telefono: 241121031 email: gerson.ortiz@gmail.com carrera: Ingenieria en sistemas puesto: Programador Jr\n"
          ],
          "name": "stdout"
        }
      ]
    }
  ]
}