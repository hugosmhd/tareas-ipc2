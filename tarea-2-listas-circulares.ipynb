{
  "nbformat": 4,
  "nbformat_minor": 0,
  "metadata": {
    "colab": {
      "name": "2. Listas Circulares.ipynb",
      "provenance": [],
      "authorship_tag": "ABX9TyM+ddGTcc0fc2IgQEo86AkR",
      "include_colab_link": true
    },
    "kernelspec": {
      "name": "python3",
      "display_name": "Python 3"
    },
    "language_info": {
      "name": "python"
    }
  },
  "cells": [
    {
      "cell_type": "markdown",
      "metadata": {
        "id": "view-in-github",
        "colab_type": "text"
      },
      "source": [
        "<a href=\"https://colab.research.google.com/github/hugosmhd/tareas-ipc2/blob/master/tarea-2-listas-circulares.ipynb\" target=\"_parent\"><img src=\"https://colab.research.google.com/assets/colab-badge.svg\" alt=\"Open In Colab\"/></a>"
      ]
    },
    {
      "cell_type": "markdown",
      "metadata": {
        "id": "77E5vJVnzNE7"
      },
      "source": [
        "## **Listas Circulares**\n",
        "**Definicion de la clase estudiante**"
      ]
    },
    {
      "cell_type": "code",
      "metadata": {
        "id": "dBzHcJXNzG1_"
      },
      "source": [
        "class estudiante:\n",
        "  def __init__(self, carne, nombre, edad, direccion, telefono, email, carrera, puesto):\n",
        "    self.carne = carne\n",
        "    self.nombre = nombre\n",
        "    self.edad = edad\n",
        "    self.direccion = direccion\n",
        "    self.telefono = telefono\n",
        "    self.email = email\n",
        "    self.carrera = carrera\n",
        "    self.puesto = puesto"
      ],
      "execution_count": 1,
      "outputs": []
    },
    {
      "cell_type": "markdown",
      "metadata": {
        "id": "j1echvUJzz-k"
      },
      "source": [
        "**Definicion de la clase Nodo**"
      ]
    },
    {
      "cell_type": "code",
      "metadata": {
        "id": "YoyqEgnRz1DV"
      },
      "source": [
        "class nodo:\n",
        "  def __init__(self, estudiante=None, siguiente=None):\n",
        "    self.estudiante = estudiante\n",
        "    self.siguiente = siguiente"
      ],
      "execution_count": 2,
      "outputs": []
    },
    {
      "cell_type": "markdown",
      "metadata": {
        "id": "YIeaUXGuz5FO"
      },
      "source": [
        "**Definicion de la clase Lista Circular**"
      ]
    },
    {
      "cell_type": "code",
      "metadata": {
        "id": "Su2lPva40ALV"
      },
      "source": [
        "class lista_circular:\n",
        "  def __init__(self):\n",
        "    self.primero = None\n",
        "\n",
        "  def insertar(self, estudiante):\n",
        "    if self.primero is None:\n",
        "      self.primero = nodo(estudiante=estudiante)\n",
        "      self.primero.siguiente = self.primero\n",
        "    else:\n",
        "      actual = nodo(estudiante=estudiante, siguiente=self.primero.siguiente)\n",
        "      self.primero.siguiente = actual\n",
        "\n",
        "  def recorrer(self):\n",
        "    if self.primero is None:\n",
        "      return\n",
        "    actual = self.primero\n",
        "    print(\"carne:\",actual.estudiante.carne,\"nombre:\",actual.estudiante.nombre,\"email:\",actual.estudiante.email,\"->\")\n",
        "    while actual.siguiente != self.primero:\n",
        "      actual = actual.siguiente\n",
        "      print(\"carne:\",actual.estudiante.carne,\"nombre:\",actual.estudiante.nombre,\"email:\",actual.estudiante.email,\"->\")\n",
        "\n",
        "  def eliminar(self, carne):\n",
        "    actual = self.primero\n",
        "    anterior = None\n",
        "    no_encontrado = False\n",
        "\n",
        "    while actual and actual.estudiante.carne != carne:\n",
        "      anterior = actual\n",
        "      actual = actual.siguiente\n",
        "      if actual == self.primero:\n",
        "        no_encontrado = True\n",
        "        break\n",
        "\n",
        "\n",
        "    if not no_encontrado:\n",
        "      if anterior is not None:\n",
        "        anterior.siguiente = actual.siguiente\n",
        "      else:\n",
        "        while actual.siguiente != self.primero:\n",
        "          actual = actual.siguiente\n",
        "        actual.siguiente = self.primero.siguiente\n",
        "        self.primero = self.primero.siguiente\n",
        "\n",
        "  def buscar(self, carne):\n",
        "    actual = self.primero\n",
        "\n",
        "    while actual and actual.estudiante.carne != carne:\n",
        "      actual = actual.siguiente\n",
        "      if actual == self.primero:\n",
        "        actual = None\n",
        "        break\n",
        "\n",
        "\n",
        "    if actual is None:\n",
        "      print('No se han encontrado resultados con el carne:',carne)\n",
        "    else:\n",
        "      print(\"carne:\", actual.estudiante.carne, \"nombre:\", actual.estudiante.nombre, \"edad:\" , actual.estudiante.edad,\n",
        "            \"direccion:\" , actual.estudiante.direccion, \"telefono:\" , actual.estudiante.telefono, \"email:\" , actual.estudiante.email, \n",
        "            \"carrera:\" , actual.estudiante.carrera, \"puesto:\" , actual.estudiante.puesto)"
      ],
      "execution_count": 3,
      "outputs": []
    },
    {
      "cell_type": "markdown",
      "metadata": {
        "id": "SSAWOwpR9uMf"
      },
      "source": [
        "**Creacion de objetos estudiante**"
      ]
    },
    {
      "cell_type": "code",
      "metadata": {
        "id": "_LeKTkBr92-1"
      },
      "source": [
        "e1 = estudiante(2019015059, \"Gerson Ortiz\", 20, \"9 calle 18-03 zona 1\", 241121031, \"gerson.ortiz@gmail.com\", \"Ingenieria en sistemas\", \"Programador Jr\")\n",
        "e2 = estudiante(201901450, \"Karen Hurtarte\", 21, \"7 calle 18-03 zona 1\", 56201133, \"karen.hurtarte@gmail.com\", \"Ingenieria en sistemas\", \"Programador Jr\")\n",
        "e3 = estudiante(20190164, \"Luis Mendez\", 22, \"8 calle 18-03 zona 1\", 56201133, \"luis.mendez@gmail.com\", \"Ingenieria en sistemas\", \"Programador Jr\")"
      ],
      "execution_count": 4,
      "outputs": []
    },
    {
      "cell_type": "markdown",
      "metadata": {
        "id": "gr5bhN2599yR"
      },
      "source": [
        "**Insercion**"
      ]
    },
    {
      "cell_type": "code",
      "metadata": {
        "id": "kSYpUtHz-Azw"
      },
      "source": [
        "lista_c = lista_circular()\n",
        "lista_c.insertar(e1)\n",
        "lista_c.insertar(e2)\n",
        "lista_c.insertar(e3)"
      ],
      "execution_count": 5,
      "outputs": []
    },
    {
      "cell_type": "markdown",
      "metadata": {
        "id": "ZlAmd-Vu-O1n"
      },
      "source": [
        "**Recorrer la lista**"
      ]
    },
    {
      "cell_type": "code",
      "metadata": {
        "colab": {
          "base_uri": "https://localhost:8080/"
        },
        "id": "c0UbFDNY-RaB",
        "outputId": "1042e0f4-e35d-436a-9dd2-b422a64616d9"
      },
      "source": [
        "lista_c.recorrer()"
      ],
      "execution_count": 6,
      "outputs": [
        {
          "output_type": "stream",
          "text": [
            "carne: 2019015059 nombre: Gerson Ortiz email: gerson.ortiz@gmail.com ->\n",
            "carne: 20190164 nombre: Luis Mendez email: luis.mendez@gmail.com ->\n",
            "carne: 201901450 nombre: Karen Hurtarte email: karen.hurtarte@gmail.com ->\n"
          ],
          "name": "stdout"
        }
      ]
    },
    {
      "cell_type": "markdown",
      "metadata": {
        "id": "wrabUiYvrqAP"
      },
      "source": [
        "**Eliminar un nodo de la lista**"
      ]
    },
    {
      "cell_type": "code",
      "metadata": {
        "colab": {
          "base_uri": "https://localhost:8080/"
        },
        "id": "_oRkbRDnrs8t",
        "outputId": "930d8356-8c1a-40f8-faa9-39e3729838a0"
      },
      "source": [
        "lista_c.eliminar(20190164)\n",
        "lista_c.recorrer()"
      ],
      "execution_count": 7,
      "outputs": [
        {
          "output_type": "stream",
          "text": [
            "carne: 2019015059 nombre: Gerson Ortiz email: gerson.ortiz@gmail.com ->\n",
            "carne: 201901450 nombre: Karen Hurtarte email: karen.hurtarte@gmail.com ->\n"
          ],
          "name": "stdout"
        }
      ]
    },
    {
      "cell_type": "markdown",
      "metadata": {
        "id": "sISDdUHIIe2W"
      },
      "source": [
        "**Buscar un nodo de la lista**"
      ]
    },
    {
      "cell_type": "code",
      "metadata": {
        "colab": {
          "base_uri": "https://localhost:8080/"
        },
        "id": "cP0nNg3SImRb",
        "outputId": "9313c612-e6b2-45bd-f42b-3ebb7ab8d034"
      },
      "source": [
        "lista_c.buscar(201901450)"
      ],
      "execution_count": 10,
      "outputs": [
        {
          "output_type": "stream",
          "text": [
            "carne: 201901450 nombre: Karen Hurtarte edad: 21 direccion: 7 calle 18-03 zona 1 telefono: 56201133 email: karen.hurtarte@gmail.com carrera: Ingenieria en sistemas puesto: Programador Jr\n"
          ],
          "name": "stdout"
        }
      ]
    }
  ]
}