{
  "nbformat": 4,
  "nbformat_minor": 0,
  "metadata": {
    "colab": {
      "name": "3. Listas doblemente enlazada.ipynb",
      "provenance": [],
      "authorship_tag": "ABX9TyM5goTNnLh/YhTD88Z13zVE",
      "include_colab_link": true
    },
    "kernelspec": {
      "name": "python3",
      "display_name": "Python 3"
    },
    "language_info": {
      "name": "python"
    }
  },
  "cells": [
    {
      "cell_type": "markdown",
      "metadata": {
        "id": "view-in-github",
        "colab_type": "text"
      },
      "source": [
        "<a href=\"https://colab.research.google.com/github/hugosmhd/tareas-ipc2/blob/master/tarea-3-listas_doblemente_enlazada.ipynb\" target=\"_parent\"><img src=\"https://colab.research.google.com/assets/colab-badge.svg\" alt=\"Open In Colab\"/></a>"
      ]
    },
    {
      "cell_type": "markdown",
      "metadata": {
        "id": "ABCulhSovqZY"
      },
      "source": [
        "## **Listas Doblemente Enlazadas**\n",
        "**Definicion de la clase estudiante**"
      ]
    },
    {
      "cell_type": "code",
      "metadata": {
        "id": "7AhtDd4-vmKe"
      },
      "source": [
        "class estudiante:\n",
        "  def __init__(self, carne, nombre, edad, direccion, telefono, email, carrera, puesto):\n",
        "    self.carne = carne\n",
        "    self.nombre = nombre\n",
        "    self.edad = edad\n",
        "    self.direccion = direccion\n",
        "    self.telefono = telefono\n",
        "    self.email = email\n",
        "    self.carrera = carrera\n",
        "    self.puesto = puesto"
      ],
      "execution_count": 1,
      "outputs": []
    },
    {
      "cell_type": "markdown",
      "metadata": {
        "id": "mqtj4ZPNwLuv"
      },
      "source": [
        "**Definicion de la clase Nodo**"
      ]
    },
    {
      "cell_type": "code",
      "metadata": {
        "id": "ApKKMvqwwNDT"
      },
      "source": [
        "class nodo:\n",
        "  def __init__(self, estudiante=None, siguiente=None, anterior=None):\n",
        "    self.estudiante = estudiante\n",
        "    self.siguiente = siguiente\n",
        "    self.anterior = anterior"
      ],
      "execution_count": 2,
      "outputs": []
    },
    {
      "cell_type": "markdown",
      "metadata": {
        "id": "bkBxq4B60GNu"
      },
      "source": [
        "**Definicion de la clase Lista doblemente enlazada**"
      ]
    },
    {
      "cell_type": "code",
      "metadata": {
        "id": "_NW3lxWX0KuN"
      },
      "source": [
        "class lista_doble:\n",
        "  def __init__(self):\n",
        "    self.primero = None\n",
        "\n",
        "  def insertar(self, estudiante):\n",
        "    if self.primero is None:\n",
        "      self.primero = nodo(estudiante=estudiante)\n",
        "    else:\n",
        "      actual = nodo(estudiante=estudiante, siguiente=self.primero)\n",
        "      self.primero.anterior = actual\n",
        "      self.primero = actual\n",
        "\n",
        "  def recorrer(self):\n",
        "    if self.primero is None:\n",
        "      return\n",
        "    actual = self.primero\n",
        "    print(\"carne: \", actual.estudiante.carne, \"nombre: \", actual.estudiante.nombre, \"email: \", actual.estudiante.email, \"->\")\n",
        "    while actual.siguiente:\n",
        "      actual = actual.siguiente\n",
        "      print(\"carne: \", actual.estudiante.carne, \"nombre: \", actual.estudiante.nombre, \"email: \", actual.estudiante.email, \"->\")\n",
        "\n",
        "  def eliminar(self, carne):\n",
        "    actual = self.primero\n",
        "    while actual:\n",
        "      if actual.estudiante.carne == carne:\n",
        "        if actual.anterior:\n",
        "          if actual.siguiente:\n",
        "            actual.anterior.siguiente = actual.siguiente\n",
        "            actual.siguiente.anterior = actual.anterior\n",
        "          else:\n",
        "            actual.anterior.siguiente = None\n",
        "            actual.anterior = None\n",
        "        else:\n",
        "          if actual.siguiente:\n",
        "            self.primero = actual.siguiente\n",
        "            actual.siguiente.anterior = None\n",
        "          else:\n",
        "            self.primero = None\n",
        "        return True\n",
        "      else:\n",
        "        actual = actual.siguiente\n",
        "    return False\n",
        "\n",
        "  def buscar(self, carne):\n",
        "    actual = self.primero\n",
        "    no_encontrado = True\n",
        "    while actual:\n",
        "      if actual.estudiante.carne == carne:\n",
        "        no_encontrado = False\n",
        "        print(\"carne:\", actual.estudiante.carne, \"nombre:\", actual.estudiante.nombre, \"edad:\" , actual.estudiante.edad,\n",
        "            \"direccion:\" , actual.estudiante.direccion, \"telefono:\" , actual.estudiante.telefono, \"email:\" , actual.estudiante.email, \n",
        "            \"carrera:\" , actual.estudiante.carrera, \"puesto:\" , actual.estudiante.puesto)\n",
        "        return\n",
        "      else:\n",
        "        actual = actual.siguiente\n",
        "\n",
        "    print('El usuario con carne ' + str(carne) + ' no se encontro')\n"
      ],
      "execution_count": 3,
      "outputs": []
    },
    {
      "cell_type": "markdown",
      "metadata": {
        "id": "3XpN3l3A2STg"
      },
      "source": [
        "**Creacion de objetos estudiante**"
      ]
    },
    {
      "cell_type": "code",
      "metadata": {
        "id": "22q3OF_u2S10"
      },
      "source": [
        "e1 = estudiante(2019015059, \"Gerson Ortiz\", 20, \"9 calle 18-03 zona 1\", 241121031, \"gerson.ortiz@gmail.com\", \"Ingenieria en sistemas\", \"Programador Jr\")\n",
        "e2 = estudiante(201901450, \"Karen Hurtarte\", 21, \"7 calle 18-03 zona 1\", 56201133, \"karen.hurtarte@gmail.com\", \"Ingenieria en sistemas\", \"Programador Jr\")\n",
        "e3 = estudiante(20190164, \"Luis Mendez\", 22, \"8 calle 18-03 zona 1\", 56201133, \"luis.mendez@gmail.com\", \"Ingenieria en sistemas\", \"Programador Jr\")"
      ],
      "execution_count": 4,
      "outputs": []
    },
    {
      "cell_type": "markdown",
      "metadata": {
        "id": "CTZiROJO2X1X"
      },
      "source": [
        "**Insercion**"
      ]
    },
    {
      "cell_type": "code",
      "metadata": {
        "id": "H9vy0X7X2ZuN"
      },
      "source": [
        "lista_d = lista_doble()\n",
        "lista_d.insertar(e1)\n",
        "lista_d.insertar(e2)\n",
        "lista_d.insertar(e3)"
      ],
      "execution_count": 5,
      "outputs": []
    },
    {
      "cell_type": "markdown",
      "metadata": {
        "id": "0GamDvaXwcJH"
      },
      "source": [
        "**Insercion**"
      ]
    },
    {
      "cell_type": "code",
      "metadata": {
        "colab": {
          "base_uri": "https://localhost:8080/"
        },
        "id": "8c_8zGlzwc1i",
        "outputId": "db6ed26b-6e34-4028-b164-37ff11f42b0f"
      },
      "source": [
        "lista_d.recorrer()"
      ],
      "execution_count": 6,
      "outputs": [
        {
          "output_type": "stream",
          "text": [
            "carne:  20190164 nombre:  Luis Mendez email:  luis.mendez@gmail.com ->\n",
            "carne:  201901450 nombre:  Karen Hurtarte email:  karen.hurtarte@gmail.com ->\n",
            "carne:  2019015059 nombre:  Gerson Ortiz email:  gerson.ortiz@gmail.com ->\n"
          ],
          "name": "stdout"
        }
      ]
    },
    {
      "cell_type": "markdown",
      "metadata": {
        "id": "qZmDITMA7uV9"
      },
      "source": [
        "**Eliminar el nodo del medio de la lista**"
      ]
    },
    {
      "cell_type": "code",
      "metadata": {
        "colab": {
          "base_uri": "https://localhost:8080/"
        },
        "id": "ELyTryI87yyQ",
        "outputId": "aae34783-9f88-46c3-a8a7-f038c3d04d07"
      },
      "source": [
        "lista_d.eliminar(201901450)"
      ],
      "execution_count": 7,
      "outputs": [
        {
          "output_type": "execute_result",
          "data": {
            "text/plain": [
              "True"
            ]
          },
          "metadata": {},
          "execution_count": 7
        }
      ]
    },
    {
      "cell_type": "code",
      "metadata": {
        "colab": {
          "base_uri": "https://localhost:8080/"
        },
        "id": "am4U-i9P742k",
        "outputId": "85b33559-8610-4b51-9de5-12094e0f8479"
      },
      "source": [
        "lista_d.recorrer()"
      ],
      "execution_count": 8,
      "outputs": [
        {
          "output_type": "stream",
          "text": [
            "carne:  20190164 nombre:  Luis Mendez email:  luis.mendez@gmail.com ->\n",
            "carne:  2019015059 nombre:  Gerson Ortiz email:  gerson.ortiz@gmail.com ->\n"
          ],
          "name": "stdout"
        }
      ]
    },
    {
      "cell_type": "markdown",
      "metadata": {
        "id": "08DMxF1u8F2B"
      },
      "source": [
        "**Eliminar el nodo primero de la lista**"
      ]
    },
    {
      "cell_type": "code",
      "metadata": {
        "colab": {
          "base_uri": "https://localhost:8080/"
        },
        "id": "P_fwP-Ft8I53",
        "outputId": "994fab6d-688e-4938-9352-a0e4b2886a17"
      },
      "source": [
        "lista_d.eliminar(20190164)"
      ],
      "execution_count": null,
      "outputs": [
        {
          "output_type": "execute_result",
          "data": {
            "text/plain": [
              "True"
            ]
          },
          "metadata": {},
          "execution_count": 9
        }
      ]
    },
    {
      "cell_type": "code",
      "metadata": {
        "colab": {
          "base_uri": "https://localhost:8080/"
        },
        "id": "2U5TZ4WO8Qgp",
        "outputId": "94526e11-a320-4927-bacb-683b5521eedf"
      },
      "source": [
        "lista_d.recorrer()"
      ],
      "execution_count": null,
      "outputs": [
        {
          "output_type": "stream",
          "text": [
            "carne:  2019015059 nombre:  Gerson Ortiz email:  gerson.ortiz@gmail.com ->\n"
          ],
          "name": "stdout"
        }
      ]
    },
    {
      "cell_type": "markdown",
      "metadata": {
        "id": "8hlwth438YSr"
      },
      "source": [
        "**Eliminar el nodo ultimo de la lista**"
      ]
    },
    {
      "cell_type": "code",
      "metadata": {
        "colab": {
          "base_uri": "https://localhost:8080/"
        },
        "id": "4mTig-OO8eHb",
        "outputId": "09c9105a-b128-4174-92f6-ac49030f577a"
      },
      "source": [
        "lista_d.eliminar(2019015059)"
      ],
      "execution_count": null,
      "outputs": [
        {
          "output_type": "execute_result",
          "data": {
            "text/plain": [
              "True"
            ]
          },
          "metadata": {},
          "execution_count": 15
        }
      ]
    },
    {
      "cell_type": "code",
      "metadata": {
        "id": "thG5gscB8iTT"
      },
      "source": [
        "lista_d.recorrer()"
      ],
      "execution_count": null,
      "outputs": []
    },
    {
      "cell_type": "markdown",
      "metadata": {
        "id": "oDR3JqXz82p-"
      },
      "source": [
        "**Eliminar nodo a nodo de la lista**"
      ]
    },
    {
      "cell_type": "code",
      "metadata": {
        "colab": {
          "base_uri": "https://localhost:8080/"
        },
        "id": "o9PzkpIv85gV",
        "outputId": "3283cc37-c146-4e22-ccbe-ab53a9955144"
      },
      "source": [
        "lista_d.eliminar(20190164)\n",
        "lista_d.recorrer()\n"
      ],
      "execution_count": null,
      "outputs": [
        {
          "output_type": "stream",
          "text": [
            "carne:  201901450 nombre:  Karen Hurtarte email:  karen.hurtarte@gmail.com ->\n",
            "carne:  2019015059 nombre:  Gerson Ortiz email:  gerson.ortiz@gmail.com ->\n"
          ],
          "name": "stdout"
        }
      ]
    },
    {
      "cell_type": "code",
      "metadata": {
        "colab": {
          "base_uri": "https://localhost:8080/"
        },
        "id": "EZE1pDWq9Nz9",
        "outputId": "666aad36-c326-479b-8435-3d0088965bc6"
      },
      "source": [
        "lista_d.eliminar(201901450)\n",
        "lista_d.recorrer()\n"
      ],
      "execution_count": null,
      "outputs": [
        {
          "output_type": "stream",
          "text": [
            "carne:  2019015059 nombre:  Gerson Ortiz email:  gerson.ortiz@gmail.com ->\n"
          ],
          "name": "stdout"
        }
      ]
    },
    {
      "cell_type": "code",
      "metadata": {
        "colab": {
          "base_uri": "https://localhost:8080/"
        },
        "id": "RSZN6T0J9Pv4",
        "outputId": "3771d71e-07c8-4ea0-a6c5-1bbf68fbe0d2"
      },
      "source": [
        "lista_d.recorrer()\n",
        "lista_d.eliminar(2019015059)"
      ],
      "execution_count": null,
      "outputs": [
        {
          "output_type": "execute_result",
          "data": {
            "text/plain": [
              "False"
            ]
          },
          "metadata": {},
          "execution_count": 26
        }
      ]
    },
    {
      "cell_type": "markdown",
      "metadata": {
        "id": "Ux04Z2L5nKIq"
      },
      "source": [
        "**Buscar un nodo de la lista**"
      ]
    },
    {
      "cell_type": "code",
      "metadata": {
        "colab": {
          "base_uri": "https://localhost:8080/"
        },
        "id": "nSs7PkYLnQOw",
        "outputId": "f0e0e94c-9b05-49ce-eb9e-f1823a987292"
      },
      "source": [
        "lista_d.buscar(2019015059)"
      ],
      "execution_count": 9,
      "outputs": [
        {
          "output_type": "stream",
          "text": [
            "carne: 2019015059 nombre: Gerson Ortiz edad: 20 direccion: 9 calle 18-03 zona 1 telefono: 241121031 email: gerson.ortiz@gmail.com carrera: Ingenieria en sistemas puesto: Programador Jr\n"
          ],
          "name": "stdout"
        }
      ]
    }
  ]
}